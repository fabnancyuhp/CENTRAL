{
 "cells": [
  {
   "cell_type": "markdown",
   "metadata": {},
   "source": [
    "Dans cette UE vous serez noté sur des exercices à rendre et des projets. Il n'y a pas d'examens."
   ]
  },
  {
   "cell_type": "markdown",
   "metadata": {},
   "source": [
    "Dans le cadre de ce cours on utilise des notebooks jupyter pour les exercices à rendre et les projets. Vous pouvez utiliser des notebooks de plusieurs façons :\n",
    "* Distribution anaconda : https://docs.anaconda.com/anaconda/install/\n",
    "* Distribution winpython (seulement windows) : https://github.com/winpython/winpython/releases/tag/3.0.20200808\n",
    "* Google colab : https://colab.research.google.com/notebooks/intro.ipynb#recent=true\n",
    "* Pyandroid 3 (tablette android et chromebook) : allez sur Play Store"
   ]
  },
  {
   "cell_type": "markdown",
   "metadata": {},
   "source": [
    "Les données du cours proviennent principalement du site kaggle et du site UCI machine learning. Je vous conseille d’ouvrir un compte kaggle pour pouvoir charger les données. Le site kaggle est utile d’un point de vue pédagogique. Vous pourrez trouver également des ressources pédagogique sur le site kaggle.\n",
    "\n",
    "* lien sur le site kaggle : https://www.kaggle.com/\n",
    "* lien sur le site UCI : https://archive.ics.uci.edu/ml/index.php"
   ]
  },
  {
   "cell_type": "markdown",
   "metadata": {},
   "source": [
    "<b>Je vous conseille d’ouvrir un compte kaggle pour pouvoir charger les données. Le site kaggle est utile d’un point de vue pédagogique. Vous pourrez trouver également des ressources pédagogiques sur le site kaggle.</b>"
   ]
  },
  {
   "cell_type": "markdown",
   "metadata": {},
   "source": [
    "<p ><span style=\"font-size:40px;\">&#9888;</span><span style=\"font-size:15px;\"> <b>Contacter moi en cas de problèmes techniques ou bien d’incompréhension des consignes. On peut dans ces circonstances organiser des réunions teams.</b></span></p>"
   ]
  },
  {
   "cell_type": "markdown",
   "metadata": {},
   "source": [
    "# Le contenu du cours \n",
    "<b>Le fascicule de cours est téléchargeable sur le lien suivant</b> : https://github.com/fabnancyuhp/PYTHON2/blob/master/python_IS.pdf\n",
    "\n",
    "* PYTHON NUMERIQUE : https://nbviewer.jupyter.org/github/fabnancyuhp/PYTHON2/blob/master/NOTEBOOKS/Structure%20de%20base%20num%C3%A9rique-etudiant.ipynb\n",
    "* MACHINE LEARNING DE BASE : https://nbviewer.jupyter.org/github/fabnancyuhp/PYTHON2/blob/master/NOTEBOOKS/MACHINE%20LEARNING%20DE%20BASE.ipynb\n",
    "* KMEANS ET CAH : https://nbviewer.jupyter.org/github/fabnancyuhp/PYTHON2/blob/master/NOTEBOOKS/KMEANS%20ET%20CAH.ipynb\n",
    "* Structure et instruction de base  : https://nbviewer.jupyter.org/github/fabnancyuhp/PYTHON2/blob/master/NOTEBOOKS/Structure%20et%20instruction%20de%20base.ipynb\n",
    "\n"
   ]
  },
  {
   "cell_type": "markdown",
   "metadata": {},
   "source": [
    "<b>Les notebooks sont téléchargeables sur le lien suivant</b>: : https://1drv.ms/u/s!Am09h0q2OIX0dbCW2jslS6dqijI?e=RdvuMQ"
   ]
  },
  {
   "cell_type": "markdown",
   "metadata": {},
   "source": [
    "# Exercice à rendre"
   ]
  },
  {
   "cell_type": "markdown",
   "metadata": {},
   "source": [
    "Les exercices à rendre sont pris en compte dans la note finale."
   ]
  },
  {
   "cell_type": "markdown",
   "metadata": {},
   "source": [
    "Vous pouvez rendre/envoyer les exercices/notebooks de plusieurs façons:\n",
    "* notebook incorporé dans une pièce jointe\n",
    "* notebook dans un Github avec lien du Github dans un mail\n",
    "* notebook partagé avec google colab\n",
    "* un mélange des 3 façons\n",
    "* notebook mis dans google drive en partage"
   ]
  },
  {
   "cell_type": "markdown",
   "metadata": {},
   "source": [
    "les dates limites de rendu des exercices :\n",
    "* ex1 p4 + ex2 p 5 + ex 3 p 7 + ex 4 p 9 + ex 5 p 11 + ex 6 p 12 + ex 7 p 12 + ex 8 p 13 à rendre avant le 11/02/2021\n",
    "* ex 1 p 26 + ex 2 p 26 + ex 3 p28 à rendre avant le 26/02/2021\n",
    "* ex mélange de loi page 36 + ex sur les données lettre p 38  à rendre avant le 14/03/2021"
   ]
  },
  {
   "cell_type": "markdown",
   "metadata": {},
   "source": [
    "# Projet"
   ]
  },
  {
   "cell_type": "markdown",
   "metadata": {},
   "source": [
    "Vous devez me communiquer au plus vite votre choix de projet. <b>La date limite de rendu des projets est le 11 avril 2021.</b>"
   ]
  },
  {
   "cell_type": "markdown",
   "metadata": {},
   "source": [
    "Vous pouvez me rendre les projets de plusieurs façons:\n",
    "* notebook incorporé dans une pièce jointe\n",
    "* notebook dans un Github avec lien du Github dans un mail\n",
    "* notebook partagé avec google colab\n",
    "* notebook mis dans google drive en partage"
   ]
  },
  {
   "cell_type": "markdown",
   "metadata": {},
   "source": [
    "Si vous voulez utiliser les packages keras tensorflow dans le cadre des projets, vous devez utiliser colab. En effet dans cette platforme keras et tensorflow sont préinstallés."
   ]
  },
  {
   "cell_type": "markdown",
   "metadata": {},
   "source": [
    "Le rendu du projet est composé de notebooks et d'un power point."
   ]
  },
  {
   "cell_type": "markdown",
   "metadata": {},
   "source": [
    "Pour une description et le choix des projets, suivre le lien suivant: https://github.com/fabnancyuhp/PYTHON2/blob/master/projet_python_IS.pdf."
   ]
  }
 ],
 "metadata": {
  "kernelspec": {
   "display_name": "Python 3",
   "language": "python",
   "name": "python3"
  },
  "language_info": {
   "codemirror_mode": {
    "name": "ipython",
    "version": 3
   },
   "file_extension": ".py",
   "mimetype": "text/x-python",
   "name": "python",
   "nbconvert_exporter": "python",
   "pygments_lexer": "ipython3",
   "version": "3.8.3"
  }
 },
 "nbformat": 4,
 "nbformat_minor": 4
}
