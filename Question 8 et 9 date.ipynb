{
 "cells": [
  {
   "cell_type": "markdown",
   "metadata": {},
   "source": [
    "# Question 7\n",
    "On va faire un code qui calcule le nombre de semaine différentes entre 2 dates."
   ]
  },
  {
   "cell_type": "code",
   "execution_count": 4,
   "metadata": {},
   "outputs": [],
   "source": [
    "#On rentre les 2 dates\n",
    "from datetime import date\n",
    "date1 = date(2020,9,8)\n",
    "date2 = date(2021,1,15)"
   ]
  },
  {
   "cell_type": "code",
   "execution_count": 3,
   "metadata": {},
   "outputs": [
    {
     "data": {
      "text/plain": [
       "(2020, 37, 2)"
      ]
     },
     "execution_count": 3,
     "metadata": {},
     "output_type": "execute_result"
    }
   ],
   "source": [
    "#Ici on utilise la fonction isocalendar()\n",
    "date1.isocalendar()\n",
    "date(2020,9,8).isocalendar()"
   ]
  },
  {
   "cell_type": "markdown",
   "metadata": {},
   "source": [
    "La semaine du 2020/9/8 est la semaine 37 et c'est le jour 2 de la semaine (en python mercredi)"
   ]
  },
  {
   "cell_type": "code",
   "execution_count": 7,
   "metadata": {},
   "outputs": [
    {
     "data": {
      "text/plain": [
       "DatetimeIndex(['2020-09-08', '2020-09-09', '2020-09-10', '2020-09-11',\n",
       "               '2020-09-12', '2020-09-13', '2020-09-14', '2020-09-15',\n",
       "               '2020-09-16', '2020-09-17',\n",
       "               ...\n",
       "               '2021-01-06', '2021-01-07', '2021-01-08', '2021-01-09',\n",
       "               '2021-01-10', '2021-01-11', '2021-01-12', '2021-01-13',\n",
       "               '2021-01-14', '2021-01-15'],\n",
       "              dtype='datetime64[ns]', length=130, freq='D')"
      ]
     },
     "execution_count": 7,
     "metadata": {},
     "output_type": "execute_result"
    }
   ],
   "source": [
    "#On liste tous les jours entre date1 et date2 en utilisant pd.date_range. On peut utiliser \n",
    "import pandas as pd\n",
    "pd.date_range(start=date1, end=date2,freq='D')"
   ]
  },
  {
   "cell_type": "code",
   "execution_count": 8,
   "metadata": {},
   "outputs": [
    {
     "data": {
      "text/plain": [
       "[(2020, 37, 2),\n",
       " (2020, 37, 3),\n",
       " (2020, 37, 4),\n",
       " (2020, 37, 5),\n",
       " (2020, 37, 6),\n",
       " (2020, 37, 7),\n",
       " (2020, 38, 1),\n",
       " (2020, 38, 2),\n",
       " (2020, 38, 3),\n",
       " (2020, 38, 4),\n",
       " (2020, 38, 5),\n",
       " (2020, 38, 6),\n",
       " (2020, 38, 7),\n",
       " (2020, 39, 1),\n",
       " (2020, 39, 2),\n",
       " (2020, 39, 3),\n",
       " (2020, 39, 4),\n",
       " (2020, 39, 5),\n",
       " (2020, 39, 6),\n",
       " (2020, 39, 7),\n",
       " (2020, 40, 1),\n",
       " (2020, 40, 2),\n",
       " (2020, 40, 3),\n",
       " (2020, 40, 4),\n",
       " (2020, 40, 5),\n",
       " (2020, 40, 6),\n",
       " (2020, 40, 7),\n",
       " (2020, 41, 1),\n",
       " (2020, 41, 2),\n",
       " (2020, 41, 3),\n",
       " (2020, 41, 4),\n",
       " (2020, 41, 5),\n",
       " (2020, 41, 6),\n",
       " (2020, 41, 7),\n",
       " (2020, 42, 1),\n",
       " (2020, 42, 2),\n",
       " (2020, 42, 3),\n",
       " (2020, 42, 4),\n",
       " (2020, 42, 5),\n",
       " (2020, 42, 6),\n",
       " (2020, 42, 7),\n",
       " (2020, 43, 1),\n",
       " (2020, 43, 2),\n",
       " (2020, 43, 3),\n",
       " (2020, 43, 4),\n",
       " (2020, 43, 5),\n",
       " (2020, 43, 6),\n",
       " (2020, 43, 7),\n",
       " (2020, 44, 1),\n",
       " (2020, 44, 2),\n",
       " (2020, 44, 3),\n",
       " (2020, 44, 4),\n",
       " (2020, 44, 5),\n",
       " (2020, 44, 6),\n",
       " (2020, 44, 7),\n",
       " (2020, 45, 1),\n",
       " (2020, 45, 2),\n",
       " (2020, 45, 3),\n",
       " (2020, 45, 4),\n",
       " (2020, 45, 5),\n",
       " (2020, 45, 6),\n",
       " (2020, 45, 7),\n",
       " (2020, 46, 1),\n",
       " (2020, 46, 2),\n",
       " (2020, 46, 3),\n",
       " (2020, 46, 4),\n",
       " (2020, 46, 5),\n",
       " (2020, 46, 6),\n",
       " (2020, 46, 7),\n",
       " (2020, 47, 1),\n",
       " (2020, 47, 2),\n",
       " (2020, 47, 3),\n",
       " (2020, 47, 4),\n",
       " (2020, 47, 5),\n",
       " (2020, 47, 6),\n",
       " (2020, 47, 7),\n",
       " (2020, 48, 1),\n",
       " (2020, 48, 2),\n",
       " (2020, 48, 3),\n",
       " (2020, 48, 4),\n",
       " (2020, 48, 5),\n",
       " (2020, 48, 6),\n",
       " (2020, 48, 7),\n",
       " (2020, 49, 1),\n",
       " (2020, 49, 2),\n",
       " (2020, 49, 3),\n",
       " (2020, 49, 4),\n",
       " (2020, 49, 5),\n",
       " (2020, 49, 6),\n",
       " (2020, 49, 7),\n",
       " (2020, 50, 1),\n",
       " (2020, 50, 2),\n",
       " (2020, 50, 3),\n",
       " (2020, 50, 4),\n",
       " (2020, 50, 5),\n",
       " (2020, 50, 6),\n",
       " (2020, 50, 7),\n",
       " (2020, 51, 1),\n",
       " (2020, 51, 2),\n",
       " (2020, 51, 3),\n",
       " (2020, 51, 4),\n",
       " (2020, 51, 5),\n",
       " (2020, 51, 6),\n",
       " (2020, 51, 7),\n",
       " (2020, 52, 1),\n",
       " (2020, 52, 2),\n",
       " (2020, 52, 3),\n",
       " (2020, 52, 4),\n",
       " (2020, 52, 5),\n",
       " (2020, 52, 6),\n",
       " (2020, 52, 7),\n",
       " (2020, 53, 1),\n",
       " (2020, 53, 2),\n",
       " (2020, 53, 3),\n",
       " (2020, 53, 4),\n",
       " (2020, 53, 5),\n",
       " (2020, 53, 6),\n",
       " (2020, 53, 7),\n",
       " (2021, 1, 1),\n",
       " (2021, 1, 2),\n",
       " (2021, 1, 3),\n",
       " (2021, 1, 4),\n",
       " (2021, 1, 5),\n",
       " (2021, 1, 6),\n",
       " (2021, 1, 7),\n",
       " (2021, 2, 1),\n",
       " (2021, 2, 2),\n",
       " (2021, 2, 3),\n",
       " (2021, 2, 4),\n",
       " (2021, 2, 5)]"
      ]
     },
     "execution_count": 8,
     "metadata": {},
     "output_type": "execute_result"
    }
   ],
   "source": [
    "#On applique isocalendar à la list listjour\n",
    "listjour = pd.date_range(start=date1, end=date2,freq='D')\n",
    "[o.isocalendar() for o in listjour]"
   ]
  },
  {
   "cell_type": "code",
   "execution_count": 9,
   "metadata": {},
   "outputs": [
    {
     "data": {
      "text/plain": [
       "[37,\n",
       " 37,\n",
       " 37,\n",
       " 37,\n",
       " 37,\n",
       " 37,\n",
       " 38,\n",
       " 38,\n",
       " 38,\n",
       " 38,\n",
       " 38,\n",
       " 38,\n",
       " 38,\n",
       " 39,\n",
       " 39,\n",
       " 39,\n",
       " 39,\n",
       " 39,\n",
       " 39,\n",
       " 39,\n",
       " 40,\n",
       " 40,\n",
       " 40,\n",
       " 40,\n",
       " 40,\n",
       " 40,\n",
       " 40,\n",
       " 41,\n",
       " 41,\n",
       " 41,\n",
       " 41,\n",
       " 41,\n",
       " 41,\n",
       " 41,\n",
       " 42,\n",
       " 42,\n",
       " 42,\n",
       " 42,\n",
       " 42,\n",
       " 42,\n",
       " 42,\n",
       " 43,\n",
       " 43,\n",
       " 43,\n",
       " 43,\n",
       " 43,\n",
       " 43,\n",
       " 43,\n",
       " 44,\n",
       " 44,\n",
       " 44,\n",
       " 44,\n",
       " 44,\n",
       " 44,\n",
       " 44,\n",
       " 45,\n",
       " 45,\n",
       " 45,\n",
       " 45,\n",
       " 45,\n",
       " 45,\n",
       " 45,\n",
       " 46,\n",
       " 46,\n",
       " 46,\n",
       " 46,\n",
       " 46,\n",
       " 46,\n",
       " 46,\n",
       " 47,\n",
       " 47,\n",
       " 47,\n",
       " 47,\n",
       " 47,\n",
       " 47,\n",
       " 47,\n",
       " 48,\n",
       " 48,\n",
       " 48,\n",
       " 48,\n",
       " 48,\n",
       " 48,\n",
       " 48,\n",
       " 49,\n",
       " 49,\n",
       " 49,\n",
       " 49,\n",
       " 49,\n",
       " 49,\n",
       " 49,\n",
       " 50,\n",
       " 50,\n",
       " 50,\n",
       " 50,\n",
       " 50,\n",
       " 50,\n",
       " 50,\n",
       " 51,\n",
       " 51,\n",
       " 51,\n",
       " 51,\n",
       " 51,\n",
       " 51,\n",
       " 51,\n",
       " 52,\n",
       " 52,\n",
       " 52,\n",
       " 52,\n",
       " 52,\n",
       " 52,\n",
       " 52,\n",
       " 53,\n",
       " 53,\n",
       " 53,\n",
       " 53,\n",
       " 53,\n",
       " 53,\n",
       " 53,\n",
       " 1,\n",
       " 1,\n",
       " 1,\n",
       " 1,\n",
       " 1,\n",
       " 1,\n",
       " 1,\n",
       " 2,\n",
       " 2,\n",
       " 2,\n",
       " 2,\n",
       " 2]"
      ]
     },
     "execution_count": 9,
     "metadata": {},
     "output_type": "execute_result"
    }
   ],
   "source": [
    "#On modifie le code au dessus pour extraire les semaines\n",
    "listjour = pd.date_range(start=date1, end=date2,freq='D')\n",
    "[o.isocalendar()[1] for o in listjour]"
   ]
  },
  {
   "cell_type": "code",
   "execution_count": 12,
   "metadata": {},
   "outputs": [
    {
     "data": {
      "text/plain": [
       "{1, 2, 37, 38, 39, 40, 41, 42, 43, 44, 45, 46, 47, 48, 49, 50, 51, 52, 53}"
      ]
     },
     "execution_count": 12,
     "metadata": {},
     "output_type": "execute_result"
    }
   ],
   "source": [
    "#On extrait les semaines unique en utilisant la fonctionnalité set de python\n",
    "set([o.isocalendar()[1] for o in listjour])"
   ]
  },
  {
   "cell_type": "code",
   "execution_count": 13,
   "metadata": {},
   "outputs": [
    {
     "data": {
      "text/plain": [
       "19"
      ]
     },
     "execution_count": 13,
     "metadata": {},
     "output_type": "execute_result"
    }
   ],
   "source": [
    "#il y a 19 semaines différentes:\n",
    "len(set([o.isocalendar()[1] for o in listjour]))"
   ]
  },
  {
   "cell_type": "markdown",
   "metadata": {},
   "source": [
    "Dans le cadre du devoire vous devez utiliser la logique apply"
   ]
  },
  {
   "cell_type": "markdown",
   "metadata": {},
   "source": [
    "# Question 9\n",
    "On donne un exemple de pivot"
   ]
  },
  {
   "cell_type": "code",
   "execution_count": 17,
   "metadata": {},
   "outputs": [],
   "source": [
    "data_volume = pd.DataFrame([[2018,'lundi',99],[2018,'mardi',15],[2018,'lundi',14],[2018,'mardi',66],[2019,'lundi',44],[2019,'mardi',88],[2018,'mercredi',77],[2019,'mercredi',76]], columns=['annee','jour','volume'])"
   ]
  },
  {
   "cell_type": "code",
   "execution_count": 18,
   "metadata": {},
   "outputs": [
    {
     "data": {
      "text/html": [
       "<div>\n",
       "<style scoped>\n",
       "    .dataframe tbody tr th:only-of-type {\n",
       "        vertical-align: middle;\n",
       "    }\n",
       "\n",
       "    .dataframe tbody tr th {\n",
       "        vertical-align: top;\n",
       "    }\n",
       "\n",
       "    .dataframe thead th {\n",
       "        text-align: right;\n",
       "    }\n",
       "</style>\n",
       "<table border=\"1\" class=\"dataframe\">\n",
       "  <thead>\n",
       "    <tr style=\"text-align: right;\">\n",
       "      <th></th>\n",
       "      <th>annee</th>\n",
       "      <th>jour</th>\n",
       "      <th>volume</th>\n",
       "    </tr>\n",
       "  </thead>\n",
       "  <tbody>\n",
       "    <tr>\n",
       "      <th>0</th>\n",
       "      <td>2018</td>\n",
       "      <td>lundi</td>\n",
       "      <td>99</td>\n",
       "    </tr>\n",
       "    <tr>\n",
       "      <th>1</th>\n",
       "      <td>2018</td>\n",
       "      <td>mardi</td>\n",
       "      <td>15</td>\n",
       "    </tr>\n",
       "    <tr>\n",
       "      <th>2</th>\n",
       "      <td>2018</td>\n",
       "      <td>lundi</td>\n",
       "      <td>14</td>\n",
       "    </tr>\n",
       "    <tr>\n",
       "      <th>3</th>\n",
       "      <td>2018</td>\n",
       "      <td>mardi</td>\n",
       "      <td>66</td>\n",
       "    </tr>\n",
       "    <tr>\n",
       "      <th>4</th>\n",
       "      <td>2019</td>\n",
       "      <td>lundi</td>\n",
       "      <td>44</td>\n",
       "    </tr>\n",
       "    <tr>\n",
       "      <th>5</th>\n",
       "      <td>2019</td>\n",
       "      <td>mardi</td>\n",
       "      <td>88</td>\n",
       "    </tr>\n",
       "    <tr>\n",
       "      <th>6</th>\n",
       "      <td>2018</td>\n",
       "      <td>mercredi</td>\n",
       "      <td>77</td>\n",
       "    </tr>\n",
       "    <tr>\n",
       "      <th>7</th>\n",
       "      <td>2019</td>\n",
       "      <td>mercredi</td>\n",
       "      <td>76</td>\n",
       "    </tr>\n",
       "  </tbody>\n",
       "</table>\n",
       "</div>"
      ],
      "text/plain": [
       "   annee      jour  volume\n",
       "0   2018     lundi      99\n",
       "1   2018     mardi      15\n",
       "2   2018     lundi      14\n",
       "3   2018     mardi      66\n",
       "4   2019     lundi      44\n",
       "5   2019     mardi      88\n",
       "6   2018  mercredi      77\n",
       "7   2019  mercredi      76"
      ]
     },
     "execution_count": 18,
     "metadata": {},
     "output_type": "execute_result"
    }
   ],
   "source": [
    "data_volume"
   ]
  },
  {
   "cell_type": "code",
   "execution_count": 22,
   "metadata": {},
   "outputs": [
    {
     "data": {
      "text/html": [
       "<div>\n",
       "<style scoped>\n",
       "    .dataframe tbody tr th:only-of-type {\n",
       "        vertical-align: middle;\n",
       "    }\n",
       "\n",
       "    .dataframe tbody tr th {\n",
       "        vertical-align: top;\n",
       "    }\n",
       "\n",
       "    .dataframe thead tr th {\n",
       "        text-align: left;\n",
       "    }\n",
       "\n",
       "    .dataframe thead tr:last-of-type th {\n",
       "        text-align: right;\n",
       "    }\n",
       "</style>\n",
       "<table border=\"1\" class=\"dataframe\">\n",
       "  <thead>\n",
       "    <tr>\n",
       "      <th></th>\n",
       "      <th colspan=\"3\" halign=\"left\">volume</th>\n",
       "    </tr>\n",
       "    <tr>\n",
       "      <th>jour</th>\n",
       "      <th>lundi</th>\n",
       "      <th>mardi</th>\n",
       "      <th>mercredi</th>\n",
       "    </tr>\n",
       "    <tr>\n",
       "      <th>annee</th>\n",
       "      <th></th>\n",
       "      <th></th>\n",
       "      <th></th>\n",
       "    </tr>\n",
       "  </thead>\n",
       "  <tbody>\n",
       "    <tr>\n",
       "      <th>2018</th>\n",
       "      <td>113</td>\n",
       "      <td>81</td>\n",
       "      <td>77</td>\n",
       "    </tr>\n",
       "    <tr>\n",
       "      <th>2019</th>\n",
       "      <td>44</td>\n",
       "      <td>88</td>\n",
       "      <td>76</td>\n",
       "    </tr>\n",
       "  </tbody>\n",
       "</table>\n",
       "</div>"
      ],
      "text/plain": [
       "      volume               \n",
       "jour   lundi mardi mercredi\n",
       "annee                      \n",
       "2018     113    81       77\n",
       "2019      44    88       76"
      ]
     },
     "execution_count": 22,
     "metadata": {},
     "output_type": "execute_result"
    }
   ],
   "source": [
    "import numpy as np\n",
    "pd.pivot_table(data_volume,values=['volume'],index=['annee'],columns=['jour'],aggfunc={'volume':np.sum})"
   ]
  }
 ],
 "metadata": {
  "kernelspec": {
   "display_name": "Python 3",
   "language": "python",
   "name": "python3"
  },
  "language_info": {
   "codemirror_mode": {
    "name": "ipython",
    "version": 3
   },
   "file_extension": ".py",
   "mimetype": "text/x-python",
   "name": "python",
   "nbconvert_exporter": "python",
   "pygments_lexer": "ipython3",
   "version": "3.8.3"
  }
 },
 "nbformat": 4,
 "nbformat_minor": 4
}
