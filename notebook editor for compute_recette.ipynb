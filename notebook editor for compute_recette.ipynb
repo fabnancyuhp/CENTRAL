{
 "cells": [
  {
   "cell_type": "markdown",
   "metadata": {},
   "source": [
    "Fabien,\n",
    "\n",
    "Voici les critères d’extraction et les règles de transformation à appliquer pour fabriquer nos jeux de données tests.\n",
    "\n",
    "Comme la population AEM est faible en 2020, j’ajoute des commandes prestations plus anciennes que le 15/09 pour lesquelles il faudra que tu transformes la date.\n",
    "\n",
    "•\tACL fictives\n",
    "\n",
    "Extraire un jeu de données avec type presta = AEM, date de fin prestation >= 15/09/2020, et code site région =HDF ou GRE (59212, 67085)\n",
    "Transformer le type prestation en ACL\n",
    "\n",
    "Extraire un jeu de données avec type presta = AEM, date de fin prestation >= 15/06/2020 et < 15/09/2020, et code site région = HDF ou GRE (59212, 67085)\n",
    "Transformer le type prestation en ACL\n",
    "Ajouter 90 jours aux dates de début, dates de fin et dates d’effet résultat\n",
    "\n",
    "Empiler les deux jeux de données\n",
    "\n",
    "Garder sans modifier les résultats autres que VED et VEM\n",
    "Transformer les résultats VED en VA2, VA3 et VAT (33 / 33 / 33 environ)\n",
    "Transformer les résultats VEM en VA2, VA3, VAT et VED (25 / 25 / 25 / 25 environ)\n",
    "\n",
    "Ainsi nous devrions avoir environ 3200 commandes EMS récentes\n"
   ]
  },
  {
   "cell_type": "code",
   "execution_count": 1,
   "metadata": {},
   "outputs": [
    {
     "name": "stderr",
     "output_type": "stream",
     "text": [
      "/applis/upr054/pur/uiuxpr054000001/code-envs/python/py_v36_administrator/lib/python3.6/site-packages/IPython/core/interactiveshell.py:3254: DtypeWarning: Columns (19,41) have mixed types. Specify dtype option on import or set low_memory=False.\n",
      "  if (await self.run_code(code, result,  async_=asy)):\n",
      "/applis/upr054/pur/uiuxpr054000001/code-envs/python/py_v36_administrator/lib/python3.6/site-packages/IPython/core/interactiveshell.py:3254: DtypeWarning: Columns (18,40) have mixed types. Specify dtype option on import or set low_memory=False.\n",
      "  if (await self.run_code(code, result,  async_=asy)):\n"
     ]
    }
   ],
   "source": [
    "# -*- coding: utf-8 -*-\n",
    "import dataiku\n",
    "import pandas as pd, numpy as np\n",
    "from dataiku import pandasutils as pdu\n",
    "\n",
    "# Read recipe inputs\n",
    "beneficiaire = dataiku.Dataset(\"beneficiaire\")\n",
    "beneficiaire_df = beneficiaire.get_dataframe()\n",
    "commandepresta = dataiku.Dataset(\"commandepresta\")\n",
    "commandepresta_df = commandepresta.get_dataframe()\n",
    "commandresultat = dataiku.Dataset(\"commandresultat\")\n",
    "commandresultat_df = commandresultat.get_dataframe()\n",
    "\n",
    "\n",
    "# Compute recipe outputs\n",
    "# TODO: Write here your actual code that computes the outputs\n",
    "# NB: DSS supports several kinds of APIs for reading and writing data. Please see doc.\n",
    "\n",
    "#recette_df = ... # Compute a Pandas dataframe to write into recette\n",
    "\n",
    "\n",
    "# Write recipe outputs\n",
    "#recette = dataiku.Dataset(\"recette\")\n",
    "#recette.write_with_schema(recette_df)"
   ]
  },
  {
   "cell_type": "code",
   "execution_count": 3,
   "metadata": {},
   "outputs": [
    {
     "data": {
      "text/plain": [
       "(694170, 49)"
      ]
     },
     "execution_count": 3,
     "metadata": {},
     "output_type": "execute_result"
    }
   ],
   "source": [
    "beneficiaire_df.shape"
   ]
  },
  {
   "cell_type": "markdown",
   "metadata": {},
   "source": [
    "# ACL fictive\n",
    "•\tACL fictives\n",
    "\n",
    "Extraire un jeu de données avec type presta = AEM, date de fin prestation >= 15/09/2020, et code site région =HDF ou GRE (59212, 67085)\n",
    "Transformer le type prestation en ACL\n",
    "\n",
    "Extraire un jeu de données avec type presta = AEM, date de fin prestation >= 15/06/2020 et < 15/09/2020, et code site région = HDF ou GRE (59212, 67085)\n",
    "Transformer le type prestation en ACL\n",
    "Ajouter 90 jours aux dates de début, dates de fin et dates d’effet résultat\n",
    "\n",
    "Empiler les deux jeux de données\n",
    "\n",
    "Garder sans modifier les résultats autres que VED et VEM\n",
    "Transformer les résultats VED en VA2, VA3 et VAT (33 / 33 / 33 environ)\n",
    "Transformer les résultats VEM en VA2, VA3, VAT et VED (25 / 25 / 25 / 25 environ)\n"
   ]
  },
  {
   "cell_type": "code",
   "execution_count": 52,
   "metadata": {},
   "outputs": [],
   "source": [
    "from datetime import datetime,date, timedelta\n",
    "commandepresta_df_ACL = commandepresta_df.loc[(commandepresta_df['dc_typepresta_id'].isin(['AEM'])) \\\n",
    "                                              & (commandepresta_df['dep'].isin([59,67,'59','67'])) &\\\n",
    "                                              (commandepresta_df['dd_finprevisionnelle']>=datetime(2020, 9, 15)) &\\\n",
    "                                             (commandepresta_df['dc_codesiteregion_id'].isin([59212, 67085,'59212','67085']))]\n",
    "\n",
    "commandresultat_df_ACL = commandresultat_df.loc[commandresultat_df['key'].isin(commandepresta_df_ACL['key'])]\n",
    "\n",
    "\n",
    "commandepresta_df_ACLbis = commandepresta_df.loc[(commandepresta_df['dc_typepresta_id'].isin(['AEM'])) \\\n",
    "                                                 & (commandepresta_df['dep'].isin([59,67,'59','67'])) \\\n",
    "                                                 &(commandepresta_df['dd_finprevisionnelle']<datetime(2020, 9, 15)) \\\n",
    "                                                 &(commandepresta_df['dd_finprevisionnelle']>=datetime(2020, 6, 15)) \\\n",
    "                                                 &(commandepresta_df['dc_codesiteregion_id'].isin([59212, 67085,'59212','67085']))]\n",
    "\n",
    "commandresultat_df_ACLbis = commandresultat_df.loc[commandresultat_df['key'].isin(commandepresta_df_ACLbis['key'])]\n",
    "commandresultat_df_ACLbis.loc[:,'dd_dateeffetresultat'] = commandresultat_df_ACLbis.loc[:,'dd_dateeffetresultat'].apply(lambda x: x+timedelta(days=90))\n",
    "\n",
    "commandepresta_df_ACLbis.loc[:,'dd_finprevisionnelle'] = commandepresta_df_ACLbis.loc[:,'dd_finprevisionnelle'].apply(lambda x: x+timedelta(days=90))\n",
    "commandepresta_df_ACLbis.loc[:,'dd_datedebut'] = commandepresta_df_ACLbis.loc[:,'dd_datedebut'].apply(lambda x: x+timedelta(days=90))\n",
    "\n",
    "commandepresta_df_ACL = pd.concat([commandepresta_df_ACL,commandepresta_df_ACLbis],axis=0)\n",
    "\n",
    "commandresultat_df_ACL = pd.concat([commandresultat_df_ACL,commandresultat_df_ACLbis],axis=0)\n",
    "\n",
    "beneficiaire_df_ACL = beneficiaire_df.loc[beneficiaire_df['key'].isin(commandepresta_df_ACL['key'])]\n",
    "#commandresultat_df_ACL = commandresultat_df.loc[commandresultat_df['key'].isin(commandepresta_df_ACL['key'])]\n",
    "\n",
    "import numpy as np\n",
    "nb = commandresultat_df_ACL.loc[commandresultat_df['kc_resultatsbeneficiaire_id']=='VED'].shape[0]\n",
    "commandresultat_df_ACL.loc[commandresultat_df['kc_resultatsbeneficiaire_id']=='VED','kc_resultatsbeneficiaire_id']= np.random.choice(['VA2','VA3','VAT'],p=[1/3,1/3,1/3],size=nb)\n",
    "\n",
    "nb = commandresultat_df_ACL.loc[commandresultat_df['kc_resultatsbeneficiaire_id']=='VEM'].shape[0]\n",
    "commandresultat_df_ACL.loc[commandresultat_df['kc_resultatsbeneficiaire_id']=='VEM','kc_resultatsbeneficiaire_id']= np.random.choice(['VA2','VA3','VAT','VED'],p=[1/4,1/4,1/4,1/4],size=nb)\n",
    "\n",
    "\n",
    "commandepresta_df_ACL.loc[:,'dc_typepresta_id'] = 'ACL'\n",
    "commandresultat_df_ACL.loc[:,'dc_typepresta_id'] = 'ACL'\n",
    "beneficiaire_df_ACL.loc[:,'dc_typepresta_id'] = 'ACL'"
   ]
  },
  {
   "cell_type": "code",
   "execution_count": 42,
   "metadata": {},
   "outputs": [],
   "source": [
    "#commandresultat_df_ACL.head()\n",
    "#commandepresta_df_ACL.head()\n",
    "# VA2, VA3 et VAT \n",
    "import numpy as np\n",
    "nb = commandresultat_df_ACL.loc[commandresultat_df['kc_resultatsbeneficiaire_id']=='VED'].shape[0]\n",
    "commandresultat_df_ACL.loc[commandresultat_df['kc_resultatsbeneficiaire_id']=='VED','kc_resultatsbeneficiaire_id']= np.random.choice(['VA2','VA3','VAT'],p=[1/3,1/3,1/3],size=nb)"
   ]
  },
  {
   "cell_type": "code",
   "execution_count": 51,
   "metadata": {},
   "outputs": [],
   "source": [
    "#VEM en VA2, VA3, VAT et VED (25 / 25 / 25 / 25 environ)\n",
    "nb = commandresultat_df_ACL.loc[commandresultat_df['kc_resultatsbeneficiaire_id']=='VEM'].shape[0]\n",
    "commandresultat_df_ACL.loc[commandresultat_df['kc_resultatsbeneficiaire_id']=='VEM','kc_resultatsbeneficiaire_id']= np.random.choice(['VA2','VA3','VAT','VED'],p=[1/4,1/4,1/4,1/4],size=nb)"
   ]
  },
  {
   "cell_type": "code",
   "execution_count": 49,
   "metadata": {},
   "outputs": [],
   "source": [
    "#list(commandepresta_df)\n",
    "#commandepresta_df['dd_finprevisionnelle']\n",
    "#list(commandepresta_df_ACL['key'])"
   ]
  },
  {
   "cell_type": "code",
   "execution_count": 50,
   "metadata": {},
   "outputs": [],
   "source": [
    "#commandresultat_df_ACL.head(15)"
   ]
  },
  {
   "cell_type": "markdown",
   "metadata": {},
   "source": [
    "# EMS fictif\n",
    "\n",
    "Extraire un jeu de données avec type presta = AEM, date de fin prestation >= 15/09/2020, et code site région = OCC, NAQ, NOR ou ARA (31096, 33127, 69188, 76115)\n",
    "Transformer le type prestation en EMS\n",
    "\n",
    "Extraire un jeu de données avec type presta = AEM, date de fin prestation >= 15/06/2020 et < 15/09/2020, et code site région = OCC, NAQ, NOR, ARA ou REU (31096, 33127, 69188, 76115, 97410)\n",
    "Transformer le type prestation en EMS\n",
    "Ajouter 90 jours aux dates de début, dates de fin et dates d’effet résultat\n",
    "\n",
    "Empiler les deux jeux de données\n",
    "\n",
    "Garder sans modifier les résultats autre que VED, VEM\n",
    "Transformer les résultats VED et VEM en VAB et VAT (50 / 50)\n",
    "\n",
    "Ainsi nous devrions avoir environ 3500 commandes EMS récentes\n"
   ]
  },
  {
   "cell_type": "code",
   "execution_count": 55,
   "metadata": {},
   "outputs": [],
   "source": [
    "from datetime import datetime,date, timedelta\n",
    "commandepresta_df_EMS = commandepresta_df.loc[(commandepresta_df['dc_typepresta_id'].isin(['AEM'])) & \\\n",
    "                                              (commandepresta_df['dd_finprevisionnelle']>=datetime(2020, 9, 15)) & \\\n",
    "                                              (commandepresta_df['dc_codesiteregion_id'].isin([31096, 33127, 69188, 76115,'31096', '33127', '69188','76115']))]\n",
    "\n",
    "commandresultat_df_EMS = commandresultat_df.loc[commandresultat_df['key'].isin(commandepresta_df_EMS['key'])]\n",
    "\n",
    "\n",
    "commandepresta_df_EMSbis = commandepresta_df.loc[(commandepresta_df['dc_typepresta_id'].isin(['AEM'])) &\\\n",
    "                                                 (commandepresta_df['dd_finprevisionnelle']<datetime(2020, 9, 15)) \\\n",
    "                                                 &(commandepresta_df['dd_finprevisionnelle']>=datetime(2020, 6, 15)) \\\n",
    "                                                 &(commandepresta_df['dc_codesiteregion_id'].isin([31096, 33127, 69188, 76115, 97410,'31096','33127','69188','76115', '97410']))]\n",
    "\n",
    "commandresultat_df_EMSbis = commandresultat_df.loc[commandresultat_df['key'].isin(commandepresta_df_EMSbis['key'])]\n",
    "commandresultat_df_EMSbis.loc[:,'dd_dateeffetresultat'] = commandresultat_df_EMSbis.loc[:,'dd_dateeffetresultat'].apply(lambda x: x+timedelta(days=90))\n",
    "\n",
    "commandepresta_df_EMSbis.loc[:,'dd_finprevisionnelle'] = commandepresta_df_EMSbis.loc[:,'dd_finprevisionnelle'].apply(lambda x: x+timedelta(days=90))\n",
    "commandepresta_df_EMSbis.loc[:,'dd_datedebut'] = commandepresta_df_EMSbis.loc[:,'dd_datedebut'].apply(lambda x: x+timedelta(days=90))\n",
    "\n",
    "commandepresta_df_EMS = pd.concat([commandepresta_df_EMS,commandepresta_df_EMSbis],axis=0)\n",
    "\n",
    "commandresultat_df_EMS = pd.concat([commandresultat_df_EMS,commandresultat_df_EMSbis],axis=0)\n",
    "\n",
    "beneficiaire_df_EMS = beneficiaire_df.loc[beneficiaire_df['key'].isin(commandepresta_df_EMS['key'])]\n",
    "#commandresultat_df_ACL = commandresultat_df.loc[commandresultat_df['key'].isin(commandepresta_df_ACL['key'])]\n",
    "\n",
    "#VED et VEM en VAB et VAT (50 / 50)\n",
    "\n",
    "import numpy as np\n",
    "nb = commandresultat_df_EMS.loc[commandresultat_df['kc_resultatsbeneficiaire_id'].isin(['VED','VEM'])].shape[0]\n",
    "commandresultat_df_EMS.loc[commandresultat_df['kc_resultatsbeneficiaire_id'].isin(['VED','VEM']),'kc_resultatsbeneficiaire_id']= np.random.choice(['VAB','VAT'],p=[1/2,1/2],size=nb)\n",
    "\n",
    "#nb = commandresultat_df_ACL.loc[commandresultat_df['kc_resultatsbeneficiaire_id']=='VEM'].shape[0]\n",
    "#commandresultat_df_ACL.loc[commandresultat_df['kc_resultatsbeneficiaire_id']=='VEM','kc_resultatsbeneficiaire_id']= np.random.choice(['VA2','VA3','VAT','VED'],p=[1/4,1/4,1/4,1/4],size=nb)\n",
    "\n",
    "\n",
    "commandepresta_df_EMS.loc[:,'dc_typepresta_id'] = 'EMS'\n",
    "commandresultat_df_EMS.loc[:,'dc_typepresta_id'] = 'EMS'\n",
    "beneficiaire_df_EMS.loc[:,'dc_typepresta_id'] = 'EMS'"
   ]
  },
  {
   "cell_type": "markdown",
   "metadata": {},
   "source": [
    "# •\tLCR, LCN, LIR, LIN, EMS, ACL réelles\n",
    "\n",
    "Extraire un jeu de données avec type presta = LCR, LCN, LIR, LIN, EMS, ACL avec date de fin prestation >= 01/01/2020 sur toutes les DR\n"
   ]
  },
  {
   "cell_type": "code",
   "execution_count": 58,
   "metadata": {},
   "outputs": [],
   "source": [
    "from datetime import datetime,date, timedelta\n",
    "commandepresta_df_AUTRE = commandepresta_df.loc[(commandepresta_df['dc_typepresta_id'].isin(['LCR','LCN','LIR','LIN','EMS','ACL'])) \\\n",
    "                                              &(commandepresta_df['dd_finprevisionnelle']>=datetime(2020, 1, 1))]\n",
    "\n",
    "beneficiaire_df_autre = beneficiaire_df.loc[beneficiaire_df['key'].isin(commandepresta_df_AUTRE['key'])]\n",
    "\n",
    "commandresultat_df_autre = commandresultat_df.loc[commandresultat_df['key'].isin(commandepresta_df_AUTRE['key'])]"
   ]
  },
  {
   "cell_type": "code",
   "execution_count": 59,
   "metadata": {},
   "outputs": [
    {
     "data": {
      "text/plain": [
       "(386767, 49)"
      ]
     },
     "execution_count": 59,
     "metadata": {},
     "output_type": "execute_result"
    }
   ],
   "source": [
    "beneficiaire_df_autre.shape"
   ]
  },
  {
   "cell_type": "markdown",
   "metadata": {},
   "source": [
    "# •\tAEM réelles\n",
    "\n",
    "Extraire un jeu de données avec type presta = AEM avec date de fin prestation >= 01/01/2020 et <15/06/2020 sur toutes les DR"
   ]
  },
  {
   "cell_type": "code",
   "execution_count": 66,
   "metadata": {},
   "outputs": [],
   "source": [
    "key_to_remove = list(commandresultat_df_EMS['key'])+list(commandresultat_df_ACL['key'])\n",
    "\n",
    "from datetime import datetime,date, timedelta\n",
    "commandepresta_df_AEM = commandepresta_df.loc[(commandepresta_df['dc_typepresta_id'].isin(['AEM'])) \\\n",
    "                                              &(commandepresta_df['dd_finprevisionnelle']>=datetime(2020, 1, 1)) \\\n",
    "                                              &(commandepresta_df['dd_finprevisionnelle']<datetime(2020, 6, 15)) \\\n",
    "                                             & ~(commandepresta_df['key'].isin(key_to_remove))]\n",
    "\n",
    "beneficiaire_df_AEM = beneficiaire_df.loc[beneficiaire_df['key'].isin(commandepresta_df_AEM['key'])]\n",
    "\n",
    "commandresultat_df_AEM = commandresultat_df.loc[commandresultat_df['key'].isin(commandepresta_df_AEM['key'])]"
   ]
  },
  {
   "cell_type": "markdown",
   "metadata": {},
   "source": [
    "# Union des résultats"
   ]
  },
  {
   "cell_type": "code",
   "execution_count": 69,
   "metadata": {},
   "outputs": [],
   "source": [
    "beneficiaire_glob = pd.concat([beneficiaire_df_ACL,beneficiaire_df_EMS,beneficiaire_df_autre,beneficiaire_df_AEM],axis=0)\n",
    "commandepresta_glob = pd.concat([commandepresta_df_ACL,commandepresta_df_EMS,commandepresta_df_AUTRE,commandepresta_df_AEM],axis=0)\n",
    "commandresultat_glob = pd.concat([commandresultat_df_ACL,commandresultat_df_EMS,commandresultat_df_autre,commandresultat_df_AEM],axis=0)"
   ]
  },
  {
   "cell_type": "markdown",
   "metadata": {},
   "source": [
    "# Ecriture dans HIVE/HADOOP"
   ]
  },
  {
   "cell_type": "code",
   "execution_count": 70,
   "metadata": {},
   "outputs": [
    {
     "name": "stdout",
     "output_type": "stream",
     "text": [
      "692169 rows successfully written (YhwOv76FT6)\n",
      "542976 rows successfully written (BeIB8BDNo1)\n",
      "348984 rows successfully written (D5ACq2Iu8h)\n"
     ]
    }
   ],
   "source": [
    "recette = dataiku.Dataset(\"recette\")\n",
    "recette.write_with_schema(beneficiaire_glob)\n",
    "\n",
    "recettebis = dataiku.Dataset(\"recettebis\")\n",
    "recettebis.write_with_schema(commandepresta_glob)\n",
    "\n",
    "recettetier = dataiku.Dataset(\"recettetier\")\n",
    "recettetier.write_with_schema(commandresultat_glob)"
   ]
  },
  {
   "cell_type": "code",
   "execution_count": null,
   "metadata": {},
   "outputs": [],
   "source": []
  }
 ],
 "metadata": {
  "associatedRecipe": "compute_recette",
  "creator": "IFDU1270",
  "customFields": {},
  "kernelspec": {
   "display_name": "Python (env py_v36_administrator)",
   "language": "python",
   "name": "py-dku-venv-py_v36_administrator"
  },
  "language_info": {
   "codemirror_mode": {
    "name": "ipython",
    "version": 3
   },
   "file_extension": ".py",
   "mimetype": "text/x-python",
   "name": "python",
   "nbconvert_exporter": "python",
   "pygments_lexer": "ipython3",
   "version": "3.6.10"
  },
  "tags": [
   "recipe-editor"
  ]
 },
 "nbformat": 4,
 "nbformat_minor": 1
}
