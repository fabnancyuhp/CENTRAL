{
 "cells": [
  {
   "cell_type": "markdown",
   "metadata": {},
   "source": [
    "Le but de ce cours est d’introduire le machine learning avec python. On utilise les librairies python suivantes:\n",
    "\n",
    "On introduit les algorithmes suivants:\n",
    "* Support Vector Machine\n",
    "* Neural Networks\n",
    "* Random Forest\n",
    "* Gradiant Boosting Tree\n",
    "\n",
    "Vous avez accès à la plupart des éléments du cours dans le github suivant : https://github.com/fabnancyuhp/PYTHON."
   ]
  },
  {
   "cell_type": "markdown",
   "metadata": {},
   "source": [
    "Dans cette UE vous serez noté sur des exercices à rendre et des projets. Il n'y a pas d'examens."
   ]
  },
  {
   "cell_type": "markdown",
   "metadata": {},
   "source": [
    "Dans le cadre de ce cours on utilise des notebooks jupyter pour les exercices à rendre et les projets. Vous pouvez utiliser des notebooks de plusieurs façons :\n",
    "* Distribution anaconda : https://docs.anaconda.com/anaconda/install/\n",
    "* Distribution winpython (seulement windows) : https://github.com/winpython/winpython/releases/tag/3.0.20200808\n",
    "* Google colab : https://colab.research.google.com/notebooks/intro.ipynb#recent=true\n",
    "* Pyandroid 3 (tablette android et chromebook) : allez sur Play Store"
   ]
  },
  {
   "cell_type": "markdown",
   "metadata": {},
   "source": [
    "Les données du cours proviennent principalement du site kaggle et du site UCI machine learning. Je vous conseille d’ouvrir un compte kaggle pour pouvoir charger les données. Le site kaggle est utile d’un point de vue pédagogique. Vous pourrez trouver également des ressources pédagogique sur le site kaggle.\n",
    "\n",
    "* lien sur le site kaggle : https://www.kaggle.com/\n",
    "* lien sur le site UCI : https://archive.ics.uci.edu/ml/index.php"
   ]
  },
  {
   "cell_type": "markdown",
   "metadata": {},
   "source": [
    "# Le contenu du cours \n",
    "<b>Le fascicule de cours est téléchargeable sur le lien suivant</b> : https://github.com/fabnancyuhp/PYTHON/blob/master/Machine%20Learning.pdf\n",
    "\n",
    " * Simulation et Optimisation : https://nbviewer.jupyter.org/github/fabnancyuhp/PYTHON/blob/master/NOTEBOOKS/SIMULATION%20OPTIMISATION.ipynb\n",
    "* Support  Vector Machine : https://nbviewer.jupyter.org/github/fabnancyuhp/PYTHON/blob/master/NOTEBOOKS/Support%20VectorMachines.ipynb\n",
    "* Neural Networks : https://nbviewer.jupyter.org/github/fabnancyuhp/PYTHON/blob/master/NOTEBOOKS/Neural%20Network.ipynb\n",
    "* Evaluation et optimisation des modèles : https://nbviewer.jupyter.org/github/fabnancyuhp/PYTHON/blob/master/NOTEBOOKS/Evaluation%20des%20mod%C3%A8les.ipynb\n",
    "* Méthode d’ensemble : https://nbviewer.jupyter.org/github/fabnancyuhp/PYTHON/blob/master/NOTEBOOKS/m%C3%A9thode%20d%27ensemble.ipynb\n",
    "* Machine learning classification : https://nbviewer.jupyter.org/github/fabnancyuhp/PYTHON/blob/master/NOTEBOOKS/MACHINE%20LEARNING%20CLASSIFICATION.ipynb\n",
    "* Machine learning regression : https://nbviewer.jupyter.org/github/fabnancyuhp/PYTHON/blob/master/NOTEBOOKS/MACHINE%20LEARNING%20REGRESSION.ipynb\n"
   ]
  },
  {
   "cell_type": "markdown",
   "metadata": {},
   "source": [
    "<b>Les notebooks sont téléchargeables sur le lien suivant</b>: https://1drv.ms/u/s!Am09h0q2OIX0fTnhaGLSwtBgqis?e=zZ8qF2"
   ]
  },
  {
   "cell_type": "markdown",
   "metadata": {},
   "source": [
    "# Exercice à rendre et lecture\n",
    "\n",
    "### Date des lectures\n",
    "Les lectures ne donnent pas de travail à rendre. Ces dernières peuvent vous aider à faire les exercices qu'ils faux rendre.\n",
    "* chapitre 5 page 50 sur les SVM pour le 19/01/2021\n",
    "* chapitre 6 page 59 sur réseaux de neurones pour le 26/01/2021\n",
    "* chapitre 7 page 77 sur les méthodes d'ensemble pour le 09/02/2021\n",
    "\n",
    "### Date des exercices à rendre  \n",
    "\n",
    "Les exercices à rendre sont dans le fascicule et dans des notebooks corespondant.\n",
    "* exo 4 page 91 + exo 3 page 101 pour 5/02/2021\n",
    "* exo 3 page 92 + exo 2 page 102 pour le 19/02/2021\n",
    "* exo  1 page  91+exo 2 page 92+ exo 4 page 103+exo2 page 101 pour le 7/03/2021"
   ]
  },
  {
   "cell_type": "markdown",
   "metadata": {},
   "source": [
    "Vous pouvez me rendre les exercices de plusieurs façons:\n",
    "* notebook incorporé dans une pièce jointe\n",
    "* notebook dans un Github (ou gitlab) avec lien du Github (gitlab) dans un mail\n",
    "* notebook partagé avec google colab"
   ]
  },
  {
   "cell_type": "markdown",
   "metadata": {},
   "source": [
    "# Projets\n",
    "Vous devez me communiquer au plus vite votre choix de projet. La date limite de rendu des projets est le 26 mars 2021.\n",
    "\n",
    "Vous pouvez me rendre les projets de plusieurs façons:\n",
    "* notebook incorporé dans une pièce jointe\n",
    "* notebook dans un Github avec lien du Github dans un mail\n",
    "* notebook partagé avec google colab\n",
    "\n",
    "Si vous voulez utiliser les packages keras tensorflow dans le cadre des projets, vous devez utiliser colab. En effet dans cette platforme keras et tensorflow sont préinstallés.\n",
    "\n",
    "Le rendu du projet est composé de notebooks et d'un power point."
   ]
  },
  {
   "cell_type": "markdown",
   "metadata": {},
   "source": [
    "Les projets se font par groupe de 2.\n",
    "* Les données support des projets proviennent principalement de KAGGLE et de UCI Machine Learning\n",
    "Repository\n",
    "* Les projets de machine learning mènent aux thématiques suivantes:\n",
    " * Classification bi-classe et multi-classe\n",
    " * regression\n",
    " * text-mining\n",
    " *  certain projet peuvent être abordées comme de la classification et de la régression"
   ]
  },
  {
   "cell_type": "markdown",
   "metadata": {},
   "source": [
    "Pour les groupes ayants un projet de text-mining, vous devez vous renseigner sur les Matrice termesdocuments.\n",
    "Vous pourrez allez sur les sites internets suivants:\n",
    "* https://fr.wikipedia.org/wiki/TF-IDF\n",
    "* https://en.wikipedia.org/wiki/Document-term_matrix\n",
    "* https://scikit-learn.org/stable/modules/generated/sklearn.feature_extraction.text.CountVectorizer.html"
   ]
  },
  {
   "cell_type": "markdown",
   "metadata": {},
   "source": [
    "Pour avoir une description des projets suivre le lien suivant:"
   ]
  }
 ],
 "metadata": {
  "kernelspec": {
   "display_name": "Python 3",
   "language": "python",
   "name": "python3"
  },
  "language_info": {
   "codemirror_mode": {
    "name": "ipython",
    "version": 3
   },
   "file_extension": ".py",
   "mimetype": "text/x-python",
   "name": "python",
   "nbconvert_exporter": "python",
   "pygments_lexer": "ipython3",
   "version": "3.8.3"
  }
 },
 "nbformat": 4,
 "nbformat_minor": 4
}
