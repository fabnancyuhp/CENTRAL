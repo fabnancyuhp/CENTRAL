{
  "nbformat": 4,
  "nbformat_minor": 0,
  "metadata": {
    "colab": {
      "name": "Untitled3.ipynb",
      "provenance": [],
      "authorship_tag": "ABX9TyPW6RjiVjLyQZqBwTgxZSbo",
      "include_colab_link": true
    },
    "kernelspec": {
      "name": "python3",
      "display_name": "Python 3"
    }
  },
  "cells": [
    {
      "cell_type": "markdown",
      "metadata": {
        "id": "view-in-github",
        "colab_type": "text"
      },
      "source": [
        "<a href=\"https://colab.research.google.com/github/fabnancyuhp/CENTRAL/blob/master/Untitled3.ipynb\" target=\"_parent\"><img src=\"https://colab.research.google.com/assets/colab-badge.svg\" alt=\"Open In Colab\"/></a>"
      ]
    },
    {
      "cell_type": "markdown",
      "metadata": {
        "id": "QSR29WgW_tjw"
      },
      "source": [
        "On rappelle que $s_{n}=\\sum_{i=1}^{n}x_{i}$. On a $x_{i}$ vaut 0 ou 1. Donc $0\\leq x_{i}\\leq 1$. Donc $\\sum_{i=1}^{n}0 \\leq \\sum_{i=1}^{n}x_{i}\\leq \\sum_{i=1}^{n}1$ ,c'est à dire $0\\leq \\sum_{i=1}^{n}x_{i}\\leq n$ et donc $\\frac{0}{n}\\leq\\overline{x}_{n}=\\frac{\\sum_{i=1}^{n}x_{i}}{n}\\leq \\frac{n}{n}$. On a donc bien $0 \\leq \\overline{x}_{n}\\leq 1$  "
      ]
    },
    {
      "cell_type": "markdown",
      "metadata": {
        "id": "476rLOIRCMt3"
      },
      "source": [
        "$l(p)=s_{n}\\ln(p)+(n-s_{n})\\ln(1-p)=\\sum_{i=1}^{n}x_{i}\\ln(p)+(n-\\sum_{i=1}^{n}x_{i})\\ln(1-p)$. On donc $l^{\\prime}(p)=\\frac{s_{n}}{p}-\\frac{n-s_{n}}{1-p}=\\frac{(1-p)s_{n}}{p}-\\frac{p(n-s_{n})}{1-p}=\\frac{s_{n}-ps_{n}-pn+ps_{n}}{p(1-p)}=\\frac{s_{n}-pn}{p(1-p)}$"
      ]
    },
    {
      "cell_type": "markdown",
      "metadata": {
        "id": "mKy02f1CE4YX"
      },
      "source": [
        "On a $p(1-p)\\geq 0$ dans la question 2d).On a donc $l^{\\prime}>0$ si $s_{n}-pn>0$, c'est à dire si $p<\\frac{s_{n}}{n}=\\overline{x}_{n}$. On rappelle aussi que $s_{n}\\notin \\{0,1\\}$.,on obtient donc le tableau de variation suivant."
      ]
    },
    {
      "cell_type": "markdown",
      "metadata": {
        "id": "hViG3wcXF4Jg"
      },
      "source": [
        "\\begin{array}\r\n",
        " \r\n",
        "{c|ccccc}\r\n",
        "\\hline \r\n",
        "p&0&  &\\frac{s_{n}}{n}& &1\\\\\r\n",
        " \r\n",
        "\\hline l'(p) & & + &0& - \\\\\r\n",
        " \r\n",
        "\\hline l(p) & &\\nearrow  &0 &\\searrow\\\\\r\n",
        " \r\n",
        "\\end{array}"
      ]
    },
    {
      "cell_type": "code",
      "metadata": {
        "id": "uqPnSYJaFgVY"
      },
      "source": [
        ""
      ],
      "execution_count": null,
      "outputs": []
    }
  ]
}