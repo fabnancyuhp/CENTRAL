{
 "cells": [
  {
   "cell_type": "markdown",
   "metadata": {},
   "source": [
    "### Espérance p 17 du cours\n",
    "Soit $X$ une va continue, admettant une densité $f$.\n",
    "$$\\begin{eqnarray*}\n",
    "E(X)&=&\\int_{-\\infty}^{+\\infty}xf(x)dx\\\\\n",
    "E(X^{2})&=&\\int_{-\\infty}^{+\\infty}x^{2}f(x)dx\\\\\n",
    "E(g(X))&=&\\int_{-\\infty}^{+\\infty}g(x)f(x)dx\n",
    "\\end{eqnarray*}\n",
    "$$\n",
    "Les conditions sur g sont omises"
   ]
  },
  {
   "cell_type": "markdown",
   "metadata": {},
   "source": [
    "### Espérence si $X\\sim \\mathcal{U}([0,1])$\n",
    "On a $X\\sim \\mathcal{U}([0,1])$ donc la densité de $X$ est \n",
    "$f(x)=\\mathbb{1}_{[0,1]}(x)=\\left\\{\\begin{array}\\\\\n",
    "1 & \\mbox{ si } 0\\leq x \\leq 1\\\\\n",
    "0 & \\mbox{ sinon}\n",
    "\\end{array}\\right.$"
   ]
  },
  {
   "cell_type": "markdown",
   "metadata": {},
   "source": [
    "Alors $E(g(X))=\\int_{-\\infty}^{+\\infty}g(x)f(x)dx=\\int_{-\\infty}^{0}g(x)0dx+\\int_{0}^{1}g(x)dx+\\int_{0}^{\\infty}g(x)0dx=\\int_{0}^{1}g(x)dx$"
   ]
  },
  {
   "cell_type": "markdown",
   "metadata": {},
   "source": [
    "Quand $g(x)=e^{tx}$ alors $E(g(X))=E(e^{tX})=\\int_{0}^{1}g(x)dx=\\int_{0}^{1}e^{tx}dx=\\left[\\frac{e^{tx}}{t} \\right]_{0}^{1}=\\frac{e^{t1}-e^{t0}}{t}=\\frac{e^{t}-e^{0}}{t}=\\frac{e^{t}-1}{t}$"
   ]
  }
 ],
 "metadata": {
  "kernelspec": {
   "display_name": "Python 3",
   "language": "python",
   "name": "python3"
  },
  "language_info": {
   "codemirror_mode": {
    "name": "ipython",
    "version": 3
   },
   "file_extension": ".py",
   "mimetype": "text/x-python",
   "name": "python",
   "nbconvert_exporter": "python",
   "pygments_lexer": "ipython3",
   "version": "3.8.3"
  }
 },
 "nbformat": 4,
 "nbformat_minor": 4
}
