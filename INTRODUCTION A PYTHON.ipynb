{
 "cells": [
  {
   "cell_type": "markdown",
   "metadata": {},
   "source": [
    "Le but de ce cours est d’introduire \n",
    "* les structures numérique, \n",
    "* les dataframe \n",
    "* les dates \n",
    "\n",
    "Vous avez accès à la plupart des éléments du cours dans le github suivant : https://github.com/fabnancyuhp/PYTHON3"
   ]
  },
  {
   "cell_type": "markdown",
   "metadata": {},
   "source": [
    "Dans cette UE vous serez noté sur des exercices à rendre et des projets. Il n'y a pas d'examens."
   ]
  },
  {
   "cell_type": "markdown",
   "metadata": {},
   "source": [
    "Dans le cadre de ce cours on utilise des notebooks jupyter pour les exercices à rendre et les projets. Vous pouvez utiliser des notebooks de plusieurs façon:\n",
    "* distribution anaconda : https://docs.anaconda.com/anaconda/install/\n",
    "* distribution winpython (seulement windows) : https://github.com/winpython/winpython/releases/tag/3.0.20200808\n",
    "* google colab : https://colab.research.google.com/notebooks/intro.ipynb#recent=true\n",
    "* pyandroid 3 (tablette android et chromebook) : allez sur Play Store"
   ]
  },
  {
   "cell_type": "markdown",
   "metadata": {},
   "source": [
    "# Le contenue du cours \n",
    "Le fascicule de cours est téléchargeable sur le lien suivant : https://github.com/fabnancyuhp/PYTHON3/blob/master/INTRO%20PYTHON.pdf\n",
    " * Structure de base numérique : https://nbviewer.jupyter.org/github/fabnancyuhp/PYTHON3/blob/master/NOTEBOOK/Structure%20de%20base%20num%C3%A9rique-etudiant.ipynb\n",
    " * DATAFRAME PYTHON : https://nbviewer.jupyter.org/github/fabnancyuhp/PYTHON3/blob/master/NOTEBOOK/CHAPITRE%203%20DATAFRAME%20PYTHON.ipynb\n",
    " * Date et datetime : https://nbviewer.jupyter.org/github/fabnancyuhp/PYTHON3/blob/master/NOTEBOOK/date%20et%20datetime-etudiant.ipynb\n",
    " * Structure et instruction de base : https://nbviewer.jupyter.org/github/fabnancyuhp/PYTHON3/blob/master/NOTEBOOK/Structure%20et%20instruction%20de%20base.ipynb"
   ]
  },
  {
   "cell_type": "markdown",
   "metadata": {},
   "source": [
    "# Exercice à rendre \n",
    "Les exercices à rendre sont dans le fascicule et dans des notebooks corespondant.\n",
    "* Ex 1 p 4, Ex 2 p 5, Ex 4 p 8,Ex 6 p 10, Ex 8 p 14 : à rendre avant le 14/10/2020\n",
    "* Ex p 27 sur les dataframes : à rendre avant le 5/11/2020\n",
    "* Ex p 35 sur les datetimes : à rendre avant le 9/12/2020"
   ]
  },
  {
   "cell_type": "markdown",
   "metadata": {},
   "source": [
    "Vous pouvez me rendre les exercices de plusieurs façons:\n",
    "* notebook incorporé dans une pièce jointe\n",
    "* notebook dans un Github (ou gitlab) avec lien du Github (gitlab) dans un mail\n",
    "* notebook partagé avec google colab"
   ]
  },
  {
   "cell_type": "markdown",
   "metadata": {},
   "source": [
    "# Projet\n",
    "Vous devez me communiquer au plus vite votre choix de projet. Vous devez rendre les projets avant la fin des vacances de Noël."
   ]
  },
  {
   "cell_type": "markdown",
   "metadata": {},
   "source": [
    "Vous pouvez me rendre les projets de plusieurs façons:\n",
    "* notebook incorporé dans une pièce jointe\n",
    "* notebook dans un Github (ou gitlab) avec lien du Github (gitlab) dans un mail\n",
    "* notebook partagé avec google colab"
   ]
  },
  {
   "cell_type": "markdown",
   "metadata": {},
   "source": [
    "Le rendu du projet est composé de notebooks et d'un power point."
   ]
  },
  {
   "cell_type": "markdown",
   "metadata": {},
   "source": [
    "Vous trouverez les différents projets directement dans le fascicule de cours ou soit en suivant le lien suivant :https://github.com/fabnancyuhp/PYTHON3/blob/master/projet.pdf"
   ]
  },
  {
   "cell_type": "markdown",
   "metadata": {},
   "source": [
    "Vous pouvez charger les données du projet en suivant le lien suivant:https://onedrive.live.com/?authkey=%21AHBCjIUmAJbvvYE&cid=F48538B64A873D6D&id=F48538B64A873D6D%21107&parId=root&action=locate"
   ]
  },
  {
   "cell_type": "markdown",
   "metadata": {},
   "source": [
    "Les projets sont inspirés par le site internet suivant ou vous pouvez aussi télécharger les données:https://support.spatialkey.com/spatialkey-sample-csv-data/"
   ]
  }
 ],
 "metadata": {
  "kernelspec": {
   "display_name": "Python 3",
   "language": "python",
   "name": "python3"
  },
  "language_info": {
   "codemirror_mode": {
    "name": "ipython",
    "version": 3
   },
   "file_extension": ".py",
   "mimetype": "text/x-python",
   "name": "python",
   "nbconvert_exporter": "python",
   "pygments_lexer": "ipython3",
   "version": "3.8.3"
  }
 },
 "nbformat": 4,
 "nbformat_minor": 4
}
