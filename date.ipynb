{
  "nbformat": 4,
  "nbformat_minor": 0,
  "metadata": {
    "colab": {
      "name": "date.ipynb",
      "provenance": [],
      "authorship_tag": "ABX9TyO5uEO3mvklAPsUrifHouMs",
      "include_colab_link": true
    },
    "kernelspec": {
      "name": "python3",
      "display_name": "Python 3"
    }
  },
  "cells": [
    {
      "cell_type": "markdown",
      "metadata": {
        "id": "view-in-github",
        "colab_type": "text"
      },
      "source": [
        "<a href=\"https://colab.research.google.com/github/fabnancyuhp/CENTRAL/blob/master/date.ipynb\" target=\"_parent\"><img src=\"https://colab.research.google.com/assets/colab-badge.svg\" alt=\"Open In Colab\"/></a>"
      ]
    },
    {
      "cell_type": "code",
      "metadata": {
        "colab": {
          "base_uri": "https://localhost:8080/"
        },
        "id": "EVX7DNLjJmS6",
        "outputId": "51941454-89cf-45e7-b71b-64318c5e6d14"
      },
      "source": [
        "#class datetime.date(year, month, day)\n",
        "from datetime import date\n",
        "date(2020,11,27)"
      ],
      "execution_count": null,
      "outputs": [
        {
          "output_type": "execute_result",
          "data": {
            "text/plain": [
              "datetime.date(2020, 11, 27)"
            ]
          },
          "metadata": {
            "tags": []
          },
          "execution_count": 1
        }
      ]
    },
    {
      "cell_type": "markdown",
      "metadata": {
        "id": "880Ql6bFKQch"
      },
      "source": [
        "Dans l'exemple ci-dessus, la fonction prend en entré des nombres comme vous me l'avait dit dans votre mail. Mais la logique apply permet d'utiliser ces fonctions dans le cadre des dataframe pandas. Ci-dessous on crée un dataframe pandas."
      ]
    },
    {
      "cell_type": "code",
      "metadata": {
        "colab": {
          "base_uri": "https://localhost:8080/",
          "height": 142
        },
        "id": "eKBHHC-PKKVM",
        "outputId": "c2be9ffc-3910-4eff-d6d9-4b761f8f4727"
      },
      "source": [
        "import pandas as pd\n",
        "dataframe = pd.DataFrame({'annee':[2020,2019,2018],'mois':[10,12,4],'jour':[1,10,24]})\n",
        "dataframe"
      ],
      "execution_count": null,
      "outputs": [
        {
          "output_type": "execute_result",
          "data": {
            "text/html": [
              "<div>\n",
              "<style scoped>\n",
              "    .dataframe tbody tr th:only-of-type {\n",
              "        vertical-align: middle;\n",
              "    }\n",
              "\n",
              "    .dataframe tbody tr th {\n",
              "        vertical-align: top;\n",
              "    }\n",
              "\n",
              "    .dataframe thead th {\n",
              "        text-align: right;\n",
              "    }\n",
              "</style>\n",
              "<table border=\"1\" class=\"dataframe\">\n",
              "  <thead>\n",
              "    <tr style=\"text-align: right;\">\n",
              "      <th></th>\n",
              "      <th>annee</th>\n",
              "      <th>mois</th>\n",
              "      <th>jour</th>\n",
              "    </tr>\n",
              "  </thead>\n",
              "  <tbody>\n",
              "    <tr>\n",
              "      <th>0</th>\n",
              "      <td>2020</td>\n",
              "      <td>10</td>\n",
              "      <td>1</td>\n",
              "    </tr>\n",
              "    <tr>\n",
              "      <th>1</th>\n",
              "      <td>2019</td>\n",
              "      <td>12</td>\n",
              "      <td>10</td>\n",
              "    </tr>\n",
              "    <tr>\n",
              "      <th>2</th>\n",
              "      <td>2018</td>\n",
              "      <td>4</td>\n",
              "      <td>24</td>\n",
              "    </tr>\n",
              "  </tbody>\n",
              "</table>\n",
              "</div>"
            ],
            "text/plain": [
              "   annee  mois  jour\n",
              "0   2020    10     1\n",
              "1   2019    12    10\n",
              "2   2018     4    24"
            ]
          },
          "metadata": {
            "tags": []
          },
          "execution_count": 5
        }
      ]
    },
    {
      "cell_type": "markdown",
      "metadata": {
        "id": "23xBf4EtLazi"
      },
      "source": [
        "Maintenant on va utiliser la logique apply avec une fonction lambda."
      ]
    },
    {
      "cell_type": "code",
      "metadata": {
        "colab": {
          "base_uri": "https://localhost:8080/"
        },
        "id": "s9mEninZK-3V",
        "outputId": "3e427a5d-1a20-4ed8-e8da-8cfb8d030d48"
      },
      "source": [
        "#On import la fonction date du package datetime\n",
        "from datetime import date\n",
        "dataframe['date'] = dataframe[['annee','mois','jour']].apply(lambda x:date(x[0],x[1],x[2]),axis=1)\n",
        "dataframe['date'] "
      ],
      "execution_count": null,
      "outputs": [
        {
          "output_type": "execute_result",
          "data": {
            "text/plain": [
              "0    2020-10-01\n",
              "1    2019-12-10\n",
              "2    2018-04-24\n",
              "Name: date, dtype: object"
            ]
          },
          "metadata": {
            "tags": []
          },
          "execution_count": 7
        }
      ]
    },
    {
      "cell_type": "markdown",
      "metadata": {
        "id": "ieypcvdqMGB0"
      },
      "source": [
        "Dans le code ci-dessus, le x a cotés du lambda représente les 3 colonnes. x[0] représente l'année, x[1] représente le mois"
      ]
    },
    {
      "cell_type": "code",
      "metadata": {
        "id": "PoQ_Q5AmL-h1"
      },
      "source": [
        ""
      ],
      "execution_count": null,
      "outputs": []
    }
  ]
}